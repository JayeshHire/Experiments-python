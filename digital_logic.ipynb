{
  "nbformat": 4,
  "nbformat_minor": 0,
  "metadata": {
    "colab": {
      "provenance": [],
      "authorship_tag": "ABX9TyOJ4tNt89wrOJEr+VRao9qI",
      "include_colab_link": true
    },
    "kernelspec": {
      "name": "python3",
      "display_name": "Python 3"
    },
    "language_info": {
      "name": "python"
    }
  },
  "cells": [
    {
      "cell_type": "markdown",
      "metadata": {
        "id": "view-in-github",
        "colab_type": "text"
      },
      "source": [
        "<a href=\"https://colab.research.google.com/github/JayeshHire/Experiments-python/blob/main/digital_logic.ipynb\" target=\"_parent\"><img src=\"https://colab.research.google.com/assets/colab-badge.svg\" alt=\"Open In Colab\"/></a>"
      ]
    },
    {
      "cell_type": "code",
      "execution_count": 30,
      "metadata": {
        "id": "snWDOsVKGfXV"
      },
      "outputs": [],
      "source": [
        "from enum import Enum\n",
        "import math\n",
        "\n",
        "\n",
        "class Bit:\n",
        "  val : int\n",
        "\n",
        "  def __init__(self, val: int, name: str):\n",
        "    self.val = val\n",
        "    self.name = name\n",
        "\n",
        "\n",
        "# writing code for 2:1 mux\n",
        "def MUX2_1(a, b, s0):\n",
        "  if s0 == 0:\n",
        "    return a\n",
        "  return b\n",
        "\n",
        "\n",
        "# function to check if the number of arguments are valid\n",
        "def check_inp_select(*args):\n",
        "  arg_count = len(args)\n",
        "  for arg in args:\n",
        "    if not isinstance(arg, Bit):\n",
        "        raise TypeError(\"input should be of type bit\")\n",
        "  if math.pow(2, int(math.log(arg_count, 2))) + int(math.log(arg_count, 2))== arg_count:\n",
        "    return True\n",
        "  return False\n",
        "\n",
        "\n",
        "eq = \"a.b + s0.b + s0^.a.b^\"\n",
        "def evaluate_eq(eq : str, *args):\n",
        "  # check_inp_select(args)\n",
        "  SOPs = eq.split('+')\n",
        "  result = 0\n",
        "  for (idx, SOP) in enumerate(SOPs):\n",
        "    SOP = SOP.strip()\n",
        "    SOPs[idx] = SOP\n",
        "    temp_SOP = SOP.split('.')\n",
        "    and_result = 1\n",
        "\n",
        "    for inp in temp_SOP:\n",
        "      t = 0\n",
        "      for arg in args:\n",
        "        if inp[0] == arg.name:\n",
        "          t = arg.val\n",
        "          if inp[-1] == '^':\n",
        "            t = ~arg.val & 1\n",
        "      and_result = and_result & t\n",
        "    result = result | and_result\n",
        "  return result"
      ]
    },
    {
      "cell_type": "code",
      "source": [
        "evaluate_eq(\"a.b + s0.b + s0^.a.b\", Bit(1, 'a'), Bit(1, 'b'), Bit(1, 's0'))"
      ],
      "metadata": {
        "colab": {
          "base_uri": "https://localhost:8080/"
        },
        "id": "ruygzEMWjBbw",
        "outputId": "8f75f4db-ad1b-479f-dd65-31a7379746e7"
      },
      "execution_count": 42,
      "outputs": [
        {
          "output_type": "execute_result",
          "data": {
            "text/plain": [
              "1"
            ]
          },
          "metadata": {},
          "execution_count": 42
        }
      ]
    }
  ]
}