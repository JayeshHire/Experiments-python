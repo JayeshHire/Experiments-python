{
  "nbformat": 4,
  "nbformat_minor": 0,
  "metadata": {
    "colab": {
      "provenance": [],
      "authorship_tag": "ABX9TyNCFdY/nuZu4eGj+ccD1mw8",
      "include_colab_link": true
    },
    "kernelspec": {
      "name": "python3",
      "display_name": "Python 3"
    },
    "language_info": {
      "name": "python"
    }
  },
  "cells": [
    {
      "cell_type": "markdown",
      "metadata": {
        "id": "view-in-github",
        "colab_type": "text"
      },
      "source": [
        "<a href=\"https://colab.research.google.com/github/JayeshHire/Experiments-python/blob/main/digital_logic.ipynb\" target=\"_parent\"><img src=\"https://colab.research.google.com/assets/colab-badge.svg\" alt=\"Open In Colab\"/></a>"
      ]
    },
    {
      "cell_type": "code",
      "execution_count": 26,
      "metadata": {
        "id": "snWDOsVKGfXV"
      },
      "outputs": [],
      "source": [
        "from enum import Enum\n",
        "import math\n",
        "\n",
        "\n",
        "class Bit:\n",
        "  val : int\n",
        "\n",
        "  def __init__(self, val: int, name: str):\n",
        "    self.val = val\n",
        "    self.name = name\n",
        "\n",
        "\n",
        "# writing code for 2:1 mux\n",
        "def MUX2_1(a, b, s0):\n",
        "  if s0 == 0:\n",
        "    return a\n",
        "  return b\n",
        "\n",
        "\n",
        "# function to check if the number of arguments are valid\n",
        "def check_inp_select(*args):\n",
        "  arg_count = len(args)\n",
        "  for arg in args:\n",
        "    if not isinstance(arg, Bit):\n",
        "        raise TypeError(\"input should be of type bit\")\n",
        "  if math.pow(2, int(math.log(arg_count, 2))) + int(math.log(arg_count, 2))== arg_count:\n",
        "    return True\n",
        "  return False\n",
        "\n",
        "\n",
        "eq = \"a.b + s0.b + s0^.a.b^\"\n",
        "def evaluate_eq(eq : str, *args):\n",
        "  # check_inp_select(args)\n",
        "  SOPs = eq.split('+')\n",
        "  result = 0\n",
        "  for (idx, SOP) in enumerate(SOPs):\n",
        "    SOP = SOP.strip()\n",
        "    # SOPs[idx] = SOP\n",
        "    temp_SOP = SOP.split('.')\n",
        "    and_result = 1\n",
        "\n",
        "    for inp in temp_SOP:\n",
        "      t = 0\n",
        "      for arg in args:\n",
        "        # print(arg.name, inp[0:len(inp) - 1])\n",
        "        if inp[0:len(inp) - 1] == arg.name and inp[-1] == '^':\n",
        "          t = ~arg.val & 1\n",
        "            # print(t)\n",
        "          break\n",
        "        elif inp[-1] != '^' and inp == arg.name:\n",
        "          t = arg.val\n",
        "          break\n",
        "\n",
        "      and_result = and_result & t\n",
        "\n",
        "    print(and_result)\n",
        "    result = result | and_result\n",
        "  return result"
      ]
    },
    {
      "cell_type": "code",
      "source": [
        "evaluate_eq(\"a.b + s0.b + s0^.a.b\", Bit(1, 'a'), Bit(1, 'b'), Bit(1, 's0'))"
      ],
      "metadata": {
        "colab": {
          "base_uri": "https://localhost:8080/"
        },
        "id": "ruygzEMWjBbw",
        "outputId": "a68cb4f3-ad8e-47a3-ea21-8c3bf853f9e4"
      },
      "execution_count": 6,
      "outputs": [
        {
          "output_type": "execute_result",
          "data": {
            "text/plain": [
              "1"
            ]
          },
          "metadata": {},
          "execution_count": 6
        }
      ]
    },
    {
      "cell_type": "code",
      "source": [
        "3 & 1"
      ],
      "metadata": {
        "colab": {
          "base_uri": "https://localhost:8080/"
        },
        "id": "Mq4FyIRrEv36",
        "outputId": "18a21781-3698-45c6-ac87-eca02a5ecc12"
      },
      "execution_count": 16,
      "outputs": [
        {
          "output_type": "execute_result",
          "data": {
            "text/plain": [
              "1"
            ]
          },
          "metadata": {},
          "execution_count": 16
        }
      ]
    },
    {
      "cell_type": "code",
      "source": [
        "# equation for D flip flop\n",
        "evaluate_eq(\"clk^.D^.Qt + D.Qt + clk.D\", Bit(1, 'D'), Bit(1, 'clk'), Bit(1, 'Qt'))"
      ],
      "metadata": {
        "colab": {
          "base_uri": "https://localhost:8080/"
        },
        "id": "z9Rg7_YZERpn",
        "outputId": "ae3c82a0-d566-427c-8cfd-87d9548d0f21"
      },
      "execution_count": 28,
      "outputs": [
        {
          "output_type": "stream",
          "name": "stdout",
          "text": [
            "0\n",
            "1\n",
            "1\n"
          ]
        },
        {
          "output_type": "execute_result",
          "data": {
            "text/plain": [
              "1"
            ]
          },
          "metadata": {},
          "execution_count": 28
        }
      ]
    }
  ]
}