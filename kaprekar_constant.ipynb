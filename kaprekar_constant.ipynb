{
  "nbformat": 4,
  "nbformat_minor": 0,
  "metadata": {
    "colab": {
      "provenance": [],
      "authorship_tag": "ABX9TyNADemk53WwV4CmhhBhvVL9",
      "include_colab_link": true
    },
    "kernelspec": {
      "name": "python3",
      "display_name": "Python 3"
    },
    "language_info": {
      "name": "python"
    }
  },
  "cells": [
    {
      "cell_type": "markdown",
      "metadata": {
        "id": "view-in-github",
        "colab_type": "text"
      },
      "source": [
        "<a href=\"https://colab.research.google.com/github/JayeshHire/Experiments-python/blob/main/kaprekar_constant.ipynb\" target=\"_parent\"><img src=\"https://colab.research.google.com/assets/colab-badge.svg\" alt=\"Open In Colab\"/></a>"
      ]
    },
    {
      "cell_type": "code",
      "execution_count": 64,
      "metadata": {
        "id": "xeeocW4SHo3Z"
      },
      "outputs": [],
      "source": [
        "from enum import Enum, IntEnum\n",
        "\n",
        "kaprekar_constant = 6174\n",
        "\n",
        "\"\"\"\n",
        " let the four digit number when rearranged\n",
        " have the same number for minimum and maximum\n",
        " be called sumulat_ank\n",
        "\"\"\"\n",
        "\n",
        "samulath_ank = [1111, 2222, 3333, 4444, 5555, 6666, 7777, 8888, 9999]\n",
        "\n",
        "\n",
        "class MaxMin(Enum):\n",
        "  \"\"\"\n",
        "  this is max or min type for defining the type of\n",
        "  output in the maxMinPossibleNum\n",
        "  \"\"\"\n",
        "  Min = 0\n",
        "  Max = 1\n",
        "\n",
        "\n",
        "def max_min_possible_num(num : int, min_or_max : MaxMin) -> int :\n",
        "  \"\"\"\n",
        "   takes a 4 digit number and returns the maximum possible number out of it\n",
        "  \"\"\"\n",
        "  digits = []\n",
        "  for i in range(4):\n",
        "    digit = num % 10\n",
        "    num = int(num / 10)\n",
        "    digits.append(digit)\n",
        "\n",
        "  if min_or_max == MaxMin.Min :\n",
        "    digits.sort()\n",
        "  else :\n",
        "    digits.sort(reverse=True)\n",
        "\n",
        "  max_or_min_num = 0\n",
        "  for (idx, digit) in enumerate(digits):\n",
        "    max_or_min_num += digit*10**(4 - idx - 1)\n",
        "  return max_or_min_num\n"
      ]
    },
    {
      "cell_type": "code",
      "source": [
        "max_min_possible_num(1002, MaxMin.Min)"
      ],
      "metadata": {
        "colab": {
          "base_uri": "https://localhost:8080/"
        },
        "id": "0ienwobrOljL",
        "outputId": "16651d9b-cf73-488e-eca1-590e256f6404"
      },
      "execution_count": 21,
      "outputs": [
        {
          "output_type": "stream",
          "name": "stdout",
          "text": [
            "[2, 0, 0, 1]\n",
            "[0, 0, 1, 2]\n"
          ]
        },
        {
          "output_type": "execute_result",
          "data": {
            "text/plain": [
              "12"
            ]
          },
          "metadata": {},
          "execution_count": 21
        }
      ]
    },
    {
      "cell_type": "code",
      "source": [
        "class Nums(IntEnum):\n",
        "  One = 1\n",
        "  Two = 2\n",
        "  Three = 3\n",
        "  Four = 4\n",
        "  Five = 5\n",
        "  Six = 6\n",
        "  Seven = 7\n",
        "\n",
        "  @staticmethod\n",
        "  def getEnum(num):\n",
        "    enum_dict = {1: Nums.One, 2: Nums.Two, 3: Nums.Three,\n",
        "                 4: Nums.Four, 5: Nums.Five, 6: Nums.Six,\n",
        "                 7: Nums.Seven\n",
        "                 }\n",
        "    if num not in enum_dict :\n",
        "      raise Exception(\"number should be in range of 1 to 7. 7 included\")\n",
        "    return enum_dict[num]\n",
        "\n",
        "\n",
        "\"\"\"\n",
        "iteration_num is the dict contain number of\n",
        "repitition required to reach the kaprekar constant\n",
        "as the key and the numbers which repeated as values.\n",
        "\"\"\"\n",
        "iteration_num = dict(One= [], Two= [], Three= [],\n",
        "                  Four= [], Five= [], Six= [], Seven= [])\n",
        "\n",
        "list_num = []\n",
        "\n",
        "\n",
        "def kaprekar_method(num) :\n",
        "  \"\"\"\n",
        "  This function implements kaprekar method on the number.\n",
        "  first the maximum and minimum possible numbers of this\n",
        "  number are generated and then their difference is obtained.\n",
        "  We repeat this process until we get the kaprekar constant in\n",
        "  the difference.\n",
        "  \"\"\"\n",
        "  # print(num)\n",
        "  # print(\"num in samulath_ank\") if num in samulath_ank \\\n",
        "  # else print(\"num not in samulath_ank\")\n",
        "  if num in samulath_ank:\n",
        "    print(f\"The difference of max possible num of {num}\"\n",
        "          f\"and min possible num of {num} is zero hence\"\n",
        "          f\"'kaprekar method' is not possible for this number\")\n",
        "    return 0\n",
        "\n",
        "  diff = 0\n",
        "  i = 0\n",
        "  temp = num\n",
        "\n",
        "  if num in list_num :\n",
        "    return 0\n",
        "  while(diff != kaprekar_constant):\n",
        "    i += 1\n",
        "    min_possible = max_min_possible_num(temp, MaxMin.Min)\n",
        "    max_possible = max_min_possible_num(temp, MaxMin.Max)\n",
        "    diff = max_possible - min_possible\n",
        "    temp = diff\n",
        "\n",
        "  if i > 7:\n",
        "      print(f\"Kaprekar constant proved wrong for number {num}\")\n",
        "      return 1\n",
        "\n",
        "  iteration_num[Nums.getEnum(i).name].append(num)\n",
        "  list_num.append(num)\n",
        "  return 0"
      ],
      "metadata": {
        "id": "Sk20nBFGPrTZ"
      },
      "execution_count": 68,
      "outputs": []
    },
    {
      "cell_type": "code",
      "source": [
        "# this tests should not be run before the\n",
        "# if __name__ == \"__main__\" statement\n",
        "assert kaprekar_method(1024) == 0, \"function has errors\"\n",
        "assert iteration_num['Seven'] == [1024], \"logical errors\""
      ],
      "metadata": {
        "id": "3rEC6HAeZ-AH"
      },
      "execution_count": 46,
      "outputs": []
    },
    {
      "cell_type": "code",
      "source": [
        "if __name__ == \"__main__\":\n",
        "\n",
        "  # doing kaprekar method validation for all 4 digit nums\n",
        "  i = 1000\n",
        "  while i <= 9999:\n",
        "    kaprekar_method(i)\n",
        "    i += 1\n",
        "\n",
        "  print(iteration_num['Seven'])\n",
        "  pass"
      ],
      "metadata": {
        "id": "SLs99Uo9ff7o"
      },
      "execution_count": null,
      "outputs": []
    },
    {
      "cell_type": "code",
      "source": [
        "len(list_num)"
      ],
      "metadata": {
        "colab": {
          "base_uri": "https://localhost:8080/"
        },
        "id": "7IqiPIk9mvn_",
        "outputId": "56c8c233-0b9b-4840-a304-9c6ce2491166"
      },
      "execution_count": 73,
      "outputs": [
        {
          "output_type": "execute_result",
          "data": {
            "text/plain": [
              "8991"
            ]
          },
          "metadata": {},
          "execution_count": 73
        }
      ]
    }
  ]
}